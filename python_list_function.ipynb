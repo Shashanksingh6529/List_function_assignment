{
 "cells": [
  {
   "cell_type": "markdown",
   "id": "5bf784d2-1644-4881-912b-de23e42de347",
   "metadata": {},
   "source": [
    "Q1. What is the syntax for adding an element to a list in Python?"
   ]
  },
  {
   "cell_type": "code",
   "execution_count": 1,
   "id": "772bf474-6829-4a75-8599-b745fce08888",
   "metadata": {},
   "outputs": [
    {
     "name": "stdout",
     "output_type": "stream",
     "text": [
      "[9, 1, 2, 3, 4, 5, 6, 7]\n"
     ]
    }
   ],
   "source": [
    "my_list =[1,2,3,4,5,6]\n",
    "my_list.append(7)\n",
    "my_list.insert(0,9)\n",
    "print(my_list)"
   ]
  },
  {
   "cell_type": "markdown",
   "id": "76d7e916-e9cd-40fd-91b6-e5ad52133bb8",
   "metadata": {},
   "source": [
    "Q2. What is the difference between remove() and pop() functions in Python?"
   ]
  },
  {
   "cell_type": "code",
   "execution_count": 2,
   "id": "a0c8ccdc-5070-42c8-92b5-3fbacecd8ab5",
   "metadata": {},
   "outputs": [
    {
     "name": "stdout",
     "output_type": "stream",
     "text": [
      "[1, 2, 4, 3]\n"
     ]
    }
   ],
   "source": [
    "my_list = [1, 2, 3, 4, 3]\n",
    "my_list.remove(3)\n",
    "# Now my_list will be [1, 2, 4, 3]\n",
    "print(my_list)"
   ]
  },
  {
   "cell_type": "code",
   "execution_count": 3,
   "id": "a8d363ab-9e93-4166-be05-16d00635281b",
   "metadata": {},
   "outputs": [
    {
     "name": "stdout",
     "output_type": "stream",
     "text": [
      "[1, 2, 4]\n"
     ]
    }
   ],
   "source": [
    "my_list = [1, 2, 3, 4]\n",
    "popped_element = my_list.pop(2)\n",
    "# Now my_list will be [1, 2, 4], and popped_element will be 3\n",
    "print(my_list)"
   ]
  },
  {
   "cell_type": "markdown",
   "id": "064f93b3-dbe6-4978-801a-26b57b0821d0",
   "metadata": {},
   "source": [
    "Q3. Write a Python code to sort a list in descending order."
   ]
  },
  {
   "cell_type": "code",
   "execution_count": 4,
   "id": "b730d7b2-cb36-4504-98d7-dafe5fb0e22b",
   "metadata": {},
   "outputs": [
    {
     "name": "stdout",
     "output_type": "stream",
     "text": [
      "[5, 4, 3, 2, 1]\n"
     ]
    }
   ],
   "source": [
    "my_list = [3, 1, 4, 2, 5]\n",
    "my_list.sort(reverse=True)\n",
    "print(my_list)  # Output: [5, 4, 3, 2, 1]"
   ]
  },
  {
   "cell_type": "code",
   "execution_count": 5,
   "id": "ce28ce60-c1c6-4598-b90c-8e53a7493b14",
   "metadata": {},
   "outputs": [
    {
     "name": "stdout",
     "output_type": "stream",
     "text": [
      "[5, 4, 3, 2, 1]\n"
     ]
    }
   ],
   "source": [
    "my_list = [3, 1, 4, 2, 5]\n",
    "sorted_list = sorted(my_list, reverse=True)\n",
    "print(sorted_list)  # Output: [5, 4, 3, 2, 1]"
   ]
  },
  {
   "cell_type": "markdown",
   "id": "6d870110-881e-491a-8098-ae5e58237e76",
   "metadata": {},
   "source": [
    "Q4. Write a Python code to count the number of occurrences of an element in a list."
   ]
  },
  {
   "cell_type": "code",
   "execution_count": null,
   "id": "9c8d4961-193b-4b2b-a07d-cfbefb6a1c80",
   "metadata": {},
   "outputs": [],
   "source": []
  }
 ],
 "metadata": {
  "kernelspec": {
   "display_name": "Python 3 (ipykernel)",
   "language": "python",
   "name": "python3"
  },
  "language_info": {
   "codemirror_mode": {
    "name": "ipython",
    "version": 3
   },
   "file_extension": ".py",
   "mimetype": "text/x-python",
   "name": "python",
   "nbconvert_exporter": "python",
   "pygments_lexer": "ipython3",
   "version": "3.10.8"
  }
 },
 "nbformat": 4,
 "nbformat_minor": 5
}
